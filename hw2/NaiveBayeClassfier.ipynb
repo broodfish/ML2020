{
 "cells": [
  {
   "cell_type": "code",
   "execution_count": 76,
   "metadata": {},
   "outputs": [],
   "source": [
    "import argparse\n",
    "import numpy as np\n",
    "import math\n",
    "import struct\n",
    "import matplotlib.pyplot as plt"
   ]
  },
  {
   "cell_type": "code",
   "execution_count": 68,
   "metadata": {},
   "outputs": [],
   "source": [
    "def decode_image(image_path):\n",
    "    # read the binary-based data\n",
    "    bin_data = open(image_path, 'rb').read()\n",
    "\n",
    "    # parse the content in the head (magic number、number of images、height、width)\n",
    "    offset = 0\n",
    "    fmt_header = '>iiii'   #'>iiii' means reading four unsigned int32 by using big endian\n",
    "    magic_number, num_images, num_rows, num_cols = struct.unpack_from(fmt_header, bin_data, offset)\n",
    "    #print('magic number:%d, number of images: %d, image size: %d*%d' % (magic_number, num_images, num_rows, num_cols))\n",
    "\n",
    "    # parse dataset\n",
    "    image_size = num_rows * num_cols\n",
    "    offset += struct.calcsize(fmt_header)\n",
    "    #print(\"offset: \",offset)\n",
    "    fmt_image = '>' + str(image_size) + 'B'   # '>784B' means reading 784 unsigned byte by using big endian\n",
    "    images = np.empty((num_images, num_rows*num_cols))\n",
    "    for i in range(num_images):\n",
    "        #if (i + 1) % 10000 == 0:\n",
    "            #print('%d' % (i + 1) + ' images have been parsed')\n",
    "        images[i] = np.array(struct.unpack_from(fmt_image, bin_data, offset)).reshape((num_rows*num_cols))\n",
    "        offset += struct.calcsize(fmt_image)\n",
    "    return images, image_size, num_images, num_rows, num_cols"
   ]
  },
  {
   "cell_type": "code",
   "execution_count": 69,
   "metadata": {},
   "outputs": [],
   "source": [
    "def decode_label(label_path):\n",
    "    # read the binary-based data\n",
    "    bin_data = open(label_path, 'rb').read()\n",
    "\n",
    "    # parse the content in the head (magic number、number of images)\n",
    "    offset = 0\n",
    "    fmt_header = '>ii'\n",
    "    magic_number, num_images = struct.unpack_from(fmt_header, bin_data, offset)\n",
    "    #print('magic number:%d, number of images: %d' % (magic_number, num_images))\n",
    "\n",
    "    # parse dataset\n",
    "    offset += struct.calcsize(fmt_header)\n",
    "    fmt_image = '>B'\n",
    "    labels = np.empty(num_images)\n",
    "    for i in range(num_images):\n",
    "        #if (i + 1) % 10000 == 0:\n",
    "            #print('%d' % (i + 1) + ' images have been parsed')\n",
    "        labels[i] = struct.unpack_from(fmt_image, bin_data, offset)[0]\n",
    "        offset += struct.calcsize(fmt_image)\n",
    "    return labels"
   ]
  },
  {
   "cell_type": "code",
   "execution_count": 64,
   "metadata": {},
   "outputs": [],
   "source": [
    "def print_result(p, ans):\n",
    "    print(\"Posterior (in log scale):\")\n",
    "    for i in range(10):\n",
    "        print(i, \": \", p[i])\n",
    "    pred = np.argmin(p)\n",
    "    print(\"Prediction: \", pred, \", Ans: \", ans, \"\\n\")\n",
    "    \n",
    "    return 0 if pred == ans else 1"
   ]
  },
  {
   "cell_type": "code",
   "execution_count": 55,
   "metadata": {},
   "outputs": [],
   "source": [
    "def print_image(image, row, col, mode):\n",
    "    print(\"Imagination of numbers in Baysian classifier:\\n\")\n",
    "    # discrete\n",
    "    if mode == 0:\n",
    "        for label in range(10):\n",
    "            print(label, \":\")\n",
    "            for r in range(row):\n",
    "                for c in range(col):\n",
    "                    white = sum(image[label][r * row + c][:17])\n",
    "                    black = sum(image[label][r * row + c][17:])\n",
    "                    print(f'{1 if black > white else 0} ', end='')\n",
    "                print()\n",
    "            print()\n",
    "    # continuous\n",
    "    elif mode == 1:\n",
    "        for label in range(10):\n",
    "            print(label, \":\")\n",
    "            for r in range(row):\n",
    "                for c in range(col):\n",
    "                    print(f'{1 if image[label][r * row + c] > 128 else 0} ', end='')\n",
    "                print()\n",
    "            print()"
   ]
  },
  {
   "cell_type": "code",
   "execution_count": 62,
   "metadata": {},
   "outputs": [],
   "source": [
    "def DiscreteMode(train_image_path, train_label_path, test_image_path, test_label_path):\n",
    "    train_images, train_image_size, train_num_images, train_num_rows, train_num_cols = decode_image(train_image_path)\n",
    "    train_labels = decode_label(train_label_path)\n",
    "    \n",
    "    prior = np.zeros((10), dtype=int)\n",
    "    likelihood = np.zeros((10, train_image_size, 32), dtype=int)\n",
    "    likelihood_sum = np.zeros((10, train_image_size), dtype=int)\n",
    "    \n",
    "    for count in range(train_num_images):\n",
    "        label = int(train_labels[count])\n",
    "        prior[label] += 1\n",
    "        for pixel in range(train_image_size):\n",
    "            pixel_value = int(train_images[count][pixel])\n",
    "            likelihood[label][pixel][pixel_value // 8] += 1\n",
    "    \n",
    "    for i in range(10):\n",
    "        for j in range(train_image_size):\n",
    "            for k in range(32):\n",
    "                likelihood_sum[i][j] += likelihood[i][j][k]\n",
    "            \n",
    "    test_images, test_image_size, test_num_images, test_num_rows, test_num_cols = decode_image(test_image_path)\n",
    "    test_labels = decode_label(test_label_path)\n",
    "    \n",
    "    error = 0\n",
    "    for count in range(test_num_images):\n",
    "        ans = int(test_labels[count])\n",
    "        p = np.zeros((10), dtype=float)\n",
    "        test_image = test_images[count]\n",
    "        for label in range(10):\n",
    "            p[label] += np.log(float(prior[label] / train_num_images))\n",
    "            for pixel in range(test_image_size):\n",
    "                temp = likelihood[label][pixel][int(test_image[pixel] / 8)]\n",
    "                if temp == 0:\n",
    "                    p[label] += np.log(float(1e-6 / likelihood_sum[label][pixel]))\n",
    "                else:\n",
    "                    p[label] += np.log(float(temp / likelihood_sum[label][pixel]))\n",
    "        sumofp = sum(p)\n",
    "        p /= sumofp\n",
    "        error += print_result(p, ans)\n",
    "    \n",
    "    print_image(likelihood, test_num_rows, test_num_cols, 0)\n",
    "    print(\"Error rate: \", float(error / test_num_images))"
   ]
  },
  {
   "cell_type": "code",
   "execution_count": 73,
   "metadata": {},
   "outputs": [],
   "source": [
    "def ContinuousMode(train_image_path, train_label_path, test_image_path, test_label_path):\n",
    "    train_images, train_image_size, train_num_images, train_num_rows, train_num_cols = decode_image(train_image_path)\n",
    "    train_labels = decode_label(train_label_path)\n",
    "    \n",
    "    prior = np.zeros((10), dtype=float)\n",
    "    var = np.zeros((10, train_image_size), dtype=float)\n",
    "    mean = np.zeros((10, train_image_size), dtype=float)\n",
    "    mean_square = np.zeros((10, train_image_size), dtype=float)\n",
    "    \n",
    "    for count in range(train_num_images):\n",
    "        label = int(train_labels[count])\n",
    "        prior[label] += 1\n",
    "        for pixel in range(train_image_size):\n",
    "            pixel_value = int(train_images[count][pixel])\n",
    "            mean[label][pixel] += pixel_value\n",
    "            mean_square[label][pixel] += (pixel_value ** 2)\n",
    "    \n",
    "    # Calculate mean and standard deviation\n",
    "    for label in range(10):\n",
    "        for pixel in range(train_image_size):\n",
    "            mean[label][pixel] /= prior[label]\n",
    "            mean_square[label][pixel] /= prior[label]\n",
    "            var[label][pixel] = mean_square[label][pixel] - (mean[label][pixel] ** 2)\n",
    "            var[label][pixel] = 1e-4 if var[label][pixel] == 0 else var[label][pixel]\n",
    "    \n",
    "    prior /= train_num_images\n",
    "    prior = np.log(prior)\n",
    "    \n",
    "    test_images, test_image_size, test_num_images, test_num_rows, test_num_cols = decode_image(test_image_path)\n",
    "    test_labels = decode_label(test_label_path)\n",
    "    \n",
    "    error = 0\n",
    "    for count in range(test_num_images):\n",
    "        ans = int(test_labels[count])\n",
    "        p = np.zeros((10), dtype=float)\n",
    "        test_image = test_images[count]\n",
    "        for label in range(10):\n",
    "            p[label] += prior[label]\n",
    "            for pixel in range(test_image_size):\n",
    "                temp = np.log(1.0 / (np.sqrt(2.0 * np.pi * var[label][pixel]))) - ((test_image[pixel] - mean[label][pixel]) ** 2.0 / (2.0 * var[label][pixel]))\n",
    "                p[label] += temp\n",
    "        \n",
    "        sumofp = sum(p)\n",
    "        p /= sumofp\n",
    "        error += print_result(p, ans)\n",
    "    print_image(mean, test_num_rows, test_num_cols, 1)\n",
    "    print(\"Error rate: \", float(error / test_num_images))"
   ]
  },
  {
   "cell_type": "code",
   "execution_count": 77,
   "metadata": {
    "scrolled": true
   },
   "outputs": [
    {
     "name": "stderr",
     "output_type": "stream",
     "text": [
      "usage: ipykernel_launcher.py [-h] [--TRAINING_IMAGE TRAINING_IMAGE]\n",
      "                             [--TRAINING_LABEL TRAINING_LABEL]\n",
      "                             [--TESTING_IMAGE TESTING_IMAGE]\n",
      "                             [--TESTING_LABEL TESTING_LABEL] [--MODE MODE]\n",
      "ipykernel_launcher.py: error: unrecognized arguments: -f C:\\Users\\sag86\\AppData\\Roaming\\jupyter\\runtime\\kernel-f434ce76-5689-4aa9-b664-94ad7b347ebd.json\n"
     ]
    },
    {
     "ename": "SystemExit",
     "evalue": "2",
     "output_type": "error",
     "traceback": [
      "An exception has occurred, use %tb to see the full traceback.\n",
      "\u001b[1;31mSystemExit\u001b[0m\u001b[1;31m:\u001b[0m 2\n"
     ]
    },
    {
     "name": "stderr",
     "output_type": "stream",
     "text": [
      "C:\\Users\\sag86\\Anaconda3\\lib\\site-packages\\IPython\\core\\interactiveshell.py:2918: UserWarning: To exit: use 'exit', 'quit', or Ctrl-D.\n",
      "  warn(\"To exit: use 'exit', 'quit', or Ctrl-D.\", stacklevel=1)\n"
     ]
    }
   ],
   "source": [
    "train_image_path = 'train-images.idx3-ubyte'\n",
    "train_label_path = 'train-labels.idx1-ubyte'\n",
    "test_image_path = 't10k-images.idx3-ubyte'\n",
    "test_label_path = 't10k-labels.idx1-ubyte'\n",
    "mode = 1\n",
    "\n",
    "parser = argparse.ArgumentParser()\n",
    "parser.add_argument(\"--TRAINING_IMAGE\", type=str)\n",
    "parser.add_argument(\"--TRAINING_LABEL\", type=str)\n",
    "parser.add_argument(\"--TESTING_IMAGE\", type=str)\n",
    "parser.add_argument(\"--TESTING_LABEL\", type=str)\n",
    "parser.add_argument(\"--MODE\", type=int)\n",
    "args = parser.parse_args()\n",
    "train_image_path = args.TRAINING_IMAGE\n",
    "train_label_path = args.TRAINING_LABEL\n",
    "test_image_path = args.TESTING_IMAGE\n",
    "test_label_path = args.TESTING_LABEL\n",
    "mode = args.OPTION\n",
    "\n",
    "if mode == 0:\n",
    "    DiscreteMode(train_image_path, train_label_path, test_image_path, test_label_path)\n",
    "elif mode == 1:\n",
    "    ContinuousMode(train_image_path, train_label_path, test_image_path, test_label_path)"
   ]
  },
  {
   "cell_type": "code",
   "execution_count": null,
   "metadata": {},
   "outputs": [],
   "source": []
  }
 ],
 "metadata": {
  "kernelspec": {
   "display_name": "Python 3",
   "language": "python",
   "name": "python3"
  },
  "language_info": {
   "codemirror_mode": {
    "name": "ipython",
    "version": 3
   },
   "file_extension": ".py",
   "mimetype": "text/x-python",
   "name": "python",
   "nbconvert_exporter": "python",
   "pygments_lexer": "ipython3",
   "version": "3.6.4"
  }
 },
 "nbformat": 4,
 "nbformat_minor": 2
}

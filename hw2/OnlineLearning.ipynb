{
 "cells": [
  {
   "cell_type": "code",
   "execution_count": 1,
   "metadata": {},
   "outputs": [],
   "source": [
    "import argparse\n",
    "import csv\n",
    "from collections import Counter\n",
    "import math"
   ]
  },
  {
   "cell_type": "code",
   "execution_count": 25,
   "metadata": {},
   "outputs": [],
   "source": [
    "def readfile(file_path):\n",
    "    trials = []\n",
    "    count = []\n",
    "    with open(file_path, 'r') as file:\n",
    "        read = csv.reader(file, delimiter=',')\n",
    "        for row in read:\n",
    "            trials.append(row)\n",
    "            row = list(row[0])\n",
    "            result_count = Counter(row)\n",
    "            count.append([result_count['0'], result_count['1']])\n",
    "    \n",
    "    return trials, count"
   ]
  },
  {
   "cell_type": "code",
   "execution_count": 30,
   "metadata": {},
   "outputs": [],
   "source": [
    "def OnlineLearning(trials, count, A, B):\n",
    "    for i in range(len(trials)):\n",
    "        print('case {}: '.format(i + 1), trials[i][0])\n",
    "        N = count[i][0] + count[i][1] # the number of the trials in this case\n",
    "        m = count[i][1] # the number of head\n",
    "        MLE = m / N\n",
    "        likelihood = (math.factorial(N) / (math.factorial(m) * math.factorial(N-m))) * (MLE ** m) * ((1 - MLE) ** (N-m))\n",
    "        print('Likelihood: ', likelihood)\n",
    "        print('Beta prior:     a = {} b = {}'.format(A, B))\n",
    "        A += count[i][1]\n",
    "        B += count[i][0]\n",
    "        print('Beta posterior: a = {} b = {}'.format(A, B), '\\n')"
   ]
  },
  {
   "cell_type": "code",
   "execution_count": 34,
   "metadata": {},
   "outputs": [
    {
     "name": "stdout",
     "output_type": "stream",
     "text": [
      "case 1:  0101010101001011010101\n",
      "Likelihood:  0.16818809509277344\n",
      "Beta prior:     a = 10 b = 1\n",
      "Beta posterior: a = 21 b = 12 \n",
      "\n",
      "case 2:  0110101\n",
      "Likelihood:  0.29375515303997485\n",
      "Beta prior:     a = 21 b = 12\n",
      "Beta posterior: a = 25 b = 15 \n",
      "\n",
      "case 3:  010110101101\n",
      "Likelihood:  0.2286054241794335\n",
      "Beta prior:     a = 25 b = 15\n",
      "Beta posterior: a = 32 b = 20 \n",
      "\n",
      "case 4:  0101101011101011010\n",
      "Likelihood:  0.18286870706509092\n",
      "Beta prior:     a = 32 b = 20\n",
      "Beta posterior: a = 43 b = 28 \n",
      "\n",
      "case 5:  111101100011110\n",
      "Likelihood:  0.2143070548857833\n",
      "Beta prior:     a = 43 b = 28\n",
      "Beta posterior: a = 53 b = 33 \n",
      "\n",
      "case 6:  101110111000110\n",
      "Likelihood:  0.20659760529408\n",
      "Beta prior:     a = 53 b = 33\n",
      "Beta posterior: a = 62 b = 39 \n",
      "\n",
      "case 7:  1010010111\n",
      "Likelihood:  0.25082265600000003\n",
      "Beta prior:     a = 62 b = 39\n",
      "Beta posterior: a = 68 b = 43 \n",
      "\n",
      "case 8:  11101110110\n",
      "Likelihood:  0.2619678932864457\n",
      "Beta prior:     a = 68 b = 43\n",
      "Beta posterior: a = 76 b = 46 \n",
      "\n",
      "case 9:  01000111101\n",
      "Likelihood:  0.23609128871506807\n",
      "Beta prior:     a = 76 b = 46\n",
      "Beta posterior: a = 82 b = 51 \n",
      "\n",
      "case 10:  110100111\n",
      "Likelihood:  0.27312909617436365\n",
      "Beta prior:     a = 82 b = 51\n",
      "Beta posterior: a = 88 b = 54 \n",
      "\n",
      "case 11:  01101010111\n",
      "Likelihood:  0.24384881449471862\n",
      "Beta prior:     a = 88 b = 54\n",
      "Beta posterior: a = 95 b = 58 \n",
      "\n"
     ]
    }
   ],
   "source": [
    "file_path = 'testfile.txt'\n",
    "A = 10\n",
    "B = 1\n",
    "trials, count = readfile(file_path)\n",
    "OnlineLearning(trials, count, A, B)"
   ]
  },
  {
   "cell_type": "code",
   "execution_count": null,
   "metadata": {},
   "outputs": [],
   "source": []
  }
 ],
 "metadata": {
  "kernelspec": {
   "display_name": "Python 3",
   "language": "python",
   "name": "python3"
  },
  "language_info": {
   "codemirror_mode": {
    "name": "ipython",
    "version": 3
   },
   "file_extension": ".py",
   "mimetype": "text/x-python",
   "name": "python",
   "nbconvert_exporter": "python",
   "pygments_lexer": "ipython3",
   "version": "3.6.4"
  }
 },
 "nbformat": 4,
 "nbformat_minor": 2
}

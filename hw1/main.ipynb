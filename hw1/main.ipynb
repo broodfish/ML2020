{
 "cells": [
  {
   "cell_type": "code",
   "execution_count": 1,
   "metadata": {},
   "outputs": [],
   "source": [
    "import numpy as np\n",
    "import matplotlib.pyplot as plt \n",
    "import math\n",
    "import csv\n",
    "import os"
   ]
  },
  {
   "cell_type": "code",
   "execution_count": 22,
   "metadata": {},
   "outputs": [],
   "source": [
    "def readfile(filename):\n",
    "    x = []\n",
    "    y = []\n",
    "    with open(filename) as file:\n",
    "        read = csv.reader(file, delimiter=',')\n",
    "        for row in read:\n",
    "            x.append(float(row[0]))\n",
    "            y.append(float(row[1]))\n",
    "    return x, y"
   ]
  },
  {
   "cell_type": "code",
   "execution_count": 3,
   "metadata": {},
   "outputs": [],
   "source": [
    "def show_fitting_line(x):\n",
    "    n = len(x) - 1\n",
    "    print('Fitting line: ',end='')\n",
    "    #x^(n-1) ~ x^1\n",
    "    for i in range(n):\n",
    "        print(x[i][0], 'X ^', n - i, ' + ', end='')\n",
    "    #x^0\n",
    "    print(x[n][0])"
   ]
  },
  {
   "cell_type": "code",
   "execution_count": 4,
   "metadata": {},
   "outputs": [],
   "source": [
    "def plot(xi, yi, lse_x, nt_x):\n",
    "    xi_min = min(xi)\n",
    "    xi_max = max(xi)\n",
    "    x = np.linspace(xi_min - 1, xi_max + 1, 500)\n",
    "    # rlse\n",
    "    plt.subplot(2, 1, 1)\n",
    "    plt.title('LSE')\n",
    "    plt.plot(xi, yi, 'ro')\n",
    "    y = np.zeros(x.shape)\n",
    "    for i in range(len(lse_x)):\n",
    "        y += lse_x[i] * np.power(x, len(lse_x) - 1 - i)\n",
    "    plt.plot(x, y, '-k')\n",
    "    # newton\n",
    "    plt.subplot(2, 1, 2)\n",
    "    plt.title('Newton\\'s Method')\n",
    "    plt.plot(xi, yi, 'ro')\n",
    "    y = np.zeros(x.shape)\n",
    "    for i in range(len(nt_x)):\n",
    "        y += nt_x[i] * np.power(x, len(nt_x) - 1 - i)\n",
    "    plt.plot(x, y, '-k')\n",
    "    plt.tight_layout(pad=0.4, w_pad=4.0, h_pad=3.0)\n",
    "    plt.show()"
   ]
  },
  {
   "cell_type": "code",
   "execution_count": 5,
   "metadata": {},
   "outputs": [],
   "source": [
    "def T(x):\n",
    "    transpose = np.zeros((x.shape[1], x.shape[0]))\n",
    "    for i in range(x.shape[0]):\n",
    "        for j in range(x.shape[1]):\n",
    "            transpose[j][i] = x[i][j]\n",
    "    return transpose"
   ]
  },
  {
   "cell_type": "code",
   "execution_count": 6,
   "metadata": {},
   "outputs": [],
   "source": [
    "def ADD(A, B):\n",
    "    m = max(A.shape[0], B.shape[0])\n",
    "    n = max(A.shape[1], B.shape[1])\n",
    "    add = np.zeros((m, n))\n",
    "    for i in range(m):\n",
    "        for j in range(n):\n",
    "            if (i < A.shape[0]) & (j < A.shape[1]):\n",
    "                a = A[i][j]\n",
    "            else:\n",
    "                a = 0\n",
    "            if (i < B.shape[0]) & (j < B.shape[1]):\n",
    "                b = B[i][j]\n",
    "            else:\n",
    "                b = 0\n",
    "            add[i][j] = a + b\n",
    "    return add"
   ]
  },
  {
   "cell_type": "code",
   "execution_count": 7,
   "metadata": {},
   "outputs": [],
   "source": [
    "def MUL(A, B):\n",
    "    m = A.shape[0]\n",
    "    n = A.shape[1]\n",
    "    p = B.shape[0]\n",
    "    k = B.shape[1]\n",
    "    mul = np.zeros((m, k))\n",
    "    if (n != p):\n",
    "        print(\"MUL error!\")\n",
    "        return\n",
    "    for i in range(m):\n",
    "        for j in range(n):\n",
    "            for t in range(k):\n",
    "                mul[i][t] += A[i][j] * B[j][t]\n",
    "    return mul"
   ]
  },
  {
   "cell_type": "code",
   "execution_count": 8,
   "metadata": {},
   "outputs": [],
   "source": [
    "def MINUS(A, B):\n",
    "    minus = ADD(A, MUL_S(-1, B))\n",
    "    return minus"
   ]
  },
  {
   "cell_type": "code",
   "execution_count": 9,
   "metadata": {},
   "outputs": [],
   "source": [
    "def I(n):\n",
    "    I = np.zeros((n, n))\n",
    "    for i in range(n):\n",
    "        I[i][i] = 1\n",
    "    return I"
   ]
  },
  {
   "cell_type": "code",
   "execution_count": 10,
   "metadata": {},
   "outputs": [],
   "source": [
    "def MUL_S(s, x):\n",
    "    for i in range(x.shape[0]):\n",
    "        for j in range(x.shape[1]):\n",
    "            x[i][j] = s * x[i][j]\n",
    "    return x"
   ]
  },
  {
   "cell_type": "code",
   "execution_count": 11,
   "metadata": {},
   "outputs": [],
   "source": [
    "def INV(x):\n",
    "    m = x.shape[0]\n",
    "    n = x.shape[1]\n",
    "    if (m != n):\n",
    "        print(\"INV error!\")\n",
    "        return\n",
    "    inverse = I(m)\n",
    "    for i in range(m):\n",
    "        t1 = x[i][i]\n",
    "        for j in range(m):\n",
    "            x[i][j] = x[i][j] / t1\n",
    "            inverse[i][j] = inverse[i][j] / t1\n",
    "        for k in range(i + 1, m):\n",
    "            t2 = -x[k][i]\n",
    "            for j in range(m):\n",
    "                x[k][j] += t2 * x[i][j]\n",
    "                inverse[k][j] += t2 * inverse[i][j]\n",
    "    \n",
    "    for i in range(m - 1, -1, -1):\n",
    "        for k in range(i - 1, -1, -1):\n",
    "            t3 = -x[k][i]\n",
    "            for j in range(m):\n",
    "                x[k][j] += t3 * x[i][j]\n",
    "                inverse[k][j] += t3 * inverse[i][j]\n",
    "    return inverse"
   ]
  },
  {
   "cell_type": "code",
   "execution_count": 12,
   "metadata": {},
   "outputs": [],
   "source": [
    "def get_loss(A, x, b):\n",
    "    loss = np.sum(np.square(ADD(MUL(A, x), MUL_S(-1, b)))) # A@x - b\n",
    "    return loss"
   ]
  },
  {
   "cell_type": "code",
   "execution_count": 13,
   "metadata": {},
   "outputs": [],
   "source": [
    "def rLSE(A, b, lse_lambda):\n",
    "    n = A.shape[1]\n",
    "    AT = T(A)\n",
    "    # np.linalg.inv(A.T@A + lse_lambda*np.identity(n))@A.T@b\n",
    "    x = MUL(MUL(INV(ADD(MUL(AT, A), MUL_S(lse_lambda, I(n)))), AT), b)\n",
    "    loss = get_loss(A, x, b)\n",
    "    return x, loss"
   ]
  },
  {
   "cell_type": "code",
   "execution_count": 33,
   "metadata": {},
   "outputs": [],
   "source": [
    "def newton(A, b):\n",
    "    n = A.shape[1]\n",
    "    x0 = np.zeros((n,1))\n",
    "    for i in range(n):\n",
    "        x0[i] = 100\n",
    "    eps = 100\n",
    "    while eps > 1e-6:\n",
    "        AT2 = MUL_S(2, T(A))\n",
    "        AT2A = MUL(AT2, A)\n",
    "        AT2b = MUL(AT2, b)\n",
    "        AT2Ax = MUL(AT2A, x0)\n",
    "        # (np.linalg.inv(2*A.T@A))@(2*A.T@A@x0 - 2*A.T@b)\n",
    "        x1 = x0 - MUL(INV(AT2A), MINUS(AT2Ax, AT2b))\n",
    "        eps = abs(np.sum(np.square(MINUS(x1, x0)))/n) # x1 - x0\n",
    "        x0 = x1\n",
    "    loss = get_loss(A, x0, b)\n",
    "    return x0, loss"
   ]
  },
  {
   "cell_type": "code",
   "execution_count": 15,
   "metadata": {},
   "outputs": [
    {
     "name": "stdout",
     "output_type": "stream",
     "text": [
      "filename: testfile.txt\n"
     ]
    }
   ],
   "source": [
    "filename = input('filename: ')"
   ]
  },
  {
   "cell_type": "code",
   "execution_count": 16,
   "metadata": {},
   "outputs": [
    {
     "name": "stdout",
     "output_type": "stream",
     "text": [
      "the number of polynomial bases n: 3\n"
     ]
    }
   ],
   "source": [
    "pbases = int(input('the number of polynomial bases n: '))"
   ]
  },
  {
   "cell_type": "code",
   "execution_count": 17,
   "metadata": {},
   "outputs": [
    {
     "name": "stdout",
     "output_type": "stream",
     "text": [
      "lambda for lse: 10000\n"
     ]
    }
   ],
   "source": [
    "lse_lambda = float(input('lambda for lse: '))"
   ]
  },
  {
   "cell_type": "code",
   "execution_count": 23,
   "metadata": {
    "scrolled": true
   },
   "outputs": [],
   "source": [
    "xi, yi = readfile(filename)\n",
    "A = np.zeros((len(xi), pbases))\n",
    "for j in range(pbases):\n",
    "    A[:, j] = np.power(xi, pbases - 1 - j).reshape(-1)\n",
    "b = np.asarray(yi, dtype='float').reshape((-1, 1))"
   ]
  },
  {
   "cell_type": "code",
   "execution_count": 19,
   "metadata": {},
   "outputs": [
    {
     "name": "stdout",
     "output_type": "stream",
     "text": [
      "LSE:\n",
      "Fitting line: 0.834533282700286 X ^ 2  + 0.09314819831918814 X ^ 1  + 0.04695069927346928\n",
      "Total error:  22649.738493024146\n"
     ]
    }
   ],
   "source": [
    "lse_x, lse_loss = rLSE(A, b , lse_lambda)\n",
    "print('LSE:')\n",
    "show_fitting_line(lse_x)\n",
    "print('Total error: ', lse_loss)"
   ]
  },
  {
   "cell_type": "code",
   "execution_count": 34,
   "metadata": {
    "scrolled": true
   },
   "outputs": [
    {
     "name": "stdout",
     "output_type": "stream",
     "text": [
      "[[ 3.02385339]\n",
      " [ 4.90619026]\n",
      " [-0.23140176]]\n",
      "Newton's Method:\n",
      "Fitting line: 3.0238533934865712 X ^ 2  + 4.9061902638638 X ^ 1  + -0.23140175608772484\n",
      "Total error:  26.55995949933306\n"
     ]
    }
   ],
   "source": [
    "b = np.asarray(yi, dtype='float').reshape((-1, 1))\n",
    "nt_x, nt_loss = newton(A, b)\n",
    "print(nt_x)\n",
    "print('Newton\\'s Method:')\n",
    "show_fitting_line(nt_x)\n",
    "print('Total error: ', nt_loss)"
   ]
  },
  {
   "cell_type": "code",
   "execution_count": 29,
   "metadata": {},
   "outputs": [
    {
     "data": {
      "image/png": "[encoded data removed]",
      "text/plain": [
       "<Figure size 432x288 with 2 Axes>"
      ]
     },
     "metadata": {},
     "output_type": "display_data"
    }
   ],
   "source": [
    "plot(xi, yi, lse_x, nt_x)"
   ]
  },
  {
   "cell_type": "code",
   "execution_count": null,
   "metadata": {},
   "outputs": [],
   "source": []
  }
 ],
 "metadata": {
  "kernelspec": {
   "display_name": "Python 3",
   "language": "python",
   "name": "python3"
  },
  "language_info": {
   "codemirror_mode": {
    "name": "ipython",
    "version": 3
   },
   "file_extension": ".py",
   "mimetype": "text/x-python",
   "name": "python",
   "nbconvert_exporter": "python",
   "pygments_lexer": "ipython3",
   "version": "3.6.4"
  }
 },
 "nbformat": 4,
 "nbformat_minor": 2
}
